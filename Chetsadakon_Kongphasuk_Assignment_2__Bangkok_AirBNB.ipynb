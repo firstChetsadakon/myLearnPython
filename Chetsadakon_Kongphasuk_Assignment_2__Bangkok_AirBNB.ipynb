{
  "nbformat": 4,
  "nbformat_minor": 0,
  "metadata": {
    "colab": {
      "provenance": [],
      "machine_shape": "hm",
      "gpuType": "T4",
      "include_colab_link": true
    },
    "kernelspec": {
      "name": "python3",
      "display_name": "Python 3"
    },
    "language_info": {
      "name": "python"
    },
    "accelerator": "GPU"
  },
  "cells": [
    {
      "cell_type": "markdown",
      "metadata": {
        "id": "view-in-github",
        "colab_type": "text"
      },
      "source": [
        "<a href=\"https://colab.research.google.com/github/firstChetsadakon/myLearnPython/blob/inclass/Chetsadakon_Kongphasuk_Assignment_2__Bangkok_AirBNB.ipynb\" target=\"_parent\"><img src=\"https://colab.research.google.com/assets/colab-badge.svg\" alt=\"Open In Colab\"/></a>"
      ]
    },
    {
      "cell_type": "markdown",
      "source": [
        "# Assignment 2 - Bangkok Airbnb dataset (15%, due 13th Oct 11.59 pm.)\n",
        "\n",
        "\n",
        "Explore this [Bangkok Airbnb 2022 dataset](https://insideairbnb.com/get-the-data/) with Pandas on GoogleColab and answer these questions below. Note that every answer to the questions must accompany by python code displaying how to reach that answer. Failure to display the python code will result in a score deduction.\n",
        "\n",
        "**Late submission will deduct 1% per day.**\n",
        "\n",
        "File 1) calendar.csv - The calendar file records the price, availability, and other details in properties.\n",
        "*   listing_id : Airbnb's unique identifier for the listing\n",
        "*   date : The date in the listing's calendar\n",
        "*   available : Whether the date is available for a booking [boolean T/F]\n",
        "*   price : The price (baht) listed for the day.\n",
        "\n",
        "File 2) listings.csv - The listings file includes essential information regarding properties.\n",
        "*  id : Airbnb's unique identifier for the listing\n",
        "* name : Name of the listing\n",
        "* beds : a number of bedrooms in the listing,\n",
        "* host_name: Name of the host. Usually, just the first name(s)\n",
        "* neighbourhood_cleansed: a district name in Bangkok where the listing is.\n",
        "* amenities: a desirable or useful feature(s) on the listing. This column is in a list of string format.\n",
        "* property_type: Self-selected property type.\n",
        "\n",
        "Answer the questions below.\n",
        "1. What is the number of listing(rows) in calendar.csv and listings.csv?\n",
        "**Ans** [6,231,645], [17,073]\n",
        "2. How many of the listing properties with equal two or more beds are in the \"Bang Sue\" district?\n",
        "**Ans** [73]\n",
        "3.  How many unique items in \"amenities\" are shown in the listing? What are the top three most popular \"amenities\"?\n",
        "**Ans** [993]\n",
        "4.  How many listing records are in Sep 2022 on carlendar.csv? The same listing_id on different dates is considered a different record.\n",
        "**Ans** [512190]\n",
        "5. What is the highest average price on the listing? The average price is the average price of the same listing_id in all records/rows on the carlendar.csv.  \n",
        "**Ans** [1417827.40]\n",
        "6. How many listing_id(s) do we observe where the lowest and highest prices differ more than 10,000 baht?\n",
        "**Ans** [43]\n",
        "---\n",
        "\n",
        "* From 6, we observe the variation in the price difference between the lowest and highest prices, which can help estimate the property’s value.\n",
        "\n",
        "* If we hypothesize that the listing_ids with significant price changes indicate abnormal or malicious activity, these should be preprocessed and removed from the dataset.\n",
        "\n",
        "**Intruction on preprocessing data.**\n",
        "\n",
        "* Apply an outlier detection using the z-score statistical method on the *price difference* in each listing_id.\n",
        "* We will assume that a listing_id with *z-score value more than 3.0 are malicious properties.* Any host_name associated with such listing_ids is considered to be malicious as well.\n",
        "\n",
        "* Hint to calculate z-score [link](https://www.geeksforgeeks.org/detect-and-remove-the-outliers-using-python/)  \n",
        "---\n",
        "6. Who are the malicious hosts?\n",
        "**Ans** ['Keiko And Pete' 'Nuttawut' 'Pongwich' 'FoRest' 'Oliver' 'Rohan' 'May']\n",
        "7.  How many listing_id did each malicious host post?\n",
        "**Ans**  [FoRest             ,3\n",
        "          Keiko And Pete     ,1\n",
        "          May               ,19\n",
        "          Nuttawut           ,5\n",
        "          Oliver             ,2\n",
        "          Pongwich           ,2\n",
        "          Rohan             ,31]\n",
        "\n",
        "**Below this, please remove any malicious listing_id (a property with a z-score > 3) from the calculation.**\n",
        "\n",
        "8.  Find The top 3 districts with the most listings.\n",
        "**Ans** Khlong Toei, Vadhana, Huai Khwang\n",
        "9.  Find the top 3 most common property_type.\n",
        "**Ans**  Entire rental unit, Entire condo, Private room in rental unit\n",
        "10. Which property (listing_id) is the most expensive, and how much is the most expensive property (listing_id)?\n",
        "**Ans** [Most expensive property (listing_id): 28374239\n",
        "Price: 1500000.00]\n",
        "11. If we are looking for a property with two bedrooms in the Parthum Wan district,  how many options (`listing_id`) do we have?  \n",
        "**Ans** 32120\n",
        "\n",
        "12. If we are looking for a property with two bedrooms in the Parthum Wan district and has \"review_scores_rating\" >= 3,  how many options(listing_id) do we have?  \n",
        "**Ans** 17885\n",
        "`[Question 13-15 hint: average on average is taboo.]`\n",
        "\n",
        "\n",
        "13. What is the average price of listing properties on question 12 conditions(two bedrooms in the Parthum Wan district and has \"review_scores_rating\" >= 3)?\n",
        "**Ans**  2704.22 Bath\n",
        "14. How much is the average price of all properties in Lat Krabang?\n",
        "**Ans**  3500.93 Bath\n",
        "15. Which district has the highest average price of properties in bangkok?\n",
        "**Ans**  [Bang Khae, 4795.32 Bath]"
      ],
      "metadata": {
        "id": "MDIajsIaDi8F"
      }
    },
    {
      "cell_type": "code",
      "execution_count": null,
      "metadata": {
        "id": "5IpBm7AtHRcd",
        "colab": {
          "base_uri": "https://localhost:8080/"
        },
        "outputId": "8ff22fe8-87ae-4298-c406-9995a5bd1c72"
      },
      "outputs": [
        {
          "output_type": "stream",
          "name": "stdout",
          "text": [
            "Downloading...\n",
            "From (original): https://drive.google.com/uc?id=1d0yPTxU6Q2ae6m0N9a9z2GEOZXbgErKY\n",
            "From (redirected): https://drive.google.com/uc?id=1d0yPTxU6Q2ae6m0N9a9z2GEOZXbgErKY&confirm=t&uuid=d76db8fd-f535-4226-8f6a-02fc57585dab\n",
            "To: /content/calendar.csv\n",
            "100% 250M/250M [00:01<00:00, 187MB/s]\n",
            "Downloading...\n",
            "From: https://drive.google.com/uc?id=1cGJGnacPmbvQJ-lNeqaYp27BYFDbThEQ\n",
            "To: /content/listings.csv\n",
            "100% 36.4M/36.4M [00:00<00:00, 74.8MB/s]\n"
          ]
        }
      ],
      "source": [
        "import pandas as pd\n",
        "from ast import literal_eval\n",
        "import matplotlib.pyplot as plt\n",
        "pd.set_option('display.max_columns', 74)\n",
        "pd.set_option('display.width', 500)\n",
        "\n",
        "!gdown 1d0yPTxU6Q2ae6m0N9a9z2GEOZXbgErKY\n",
        "!gdown 1cGJGnacPmbvQJ-lNeqaYp27BYFDbThEQ\n",
        "\n",
        "df_Carl = pd.read_csv('/content/calendar.csv')\n",
        "df_List = pd.read_csv('/content/listings.csv')\n",
        "\n",
        "df_List[\"amenities\"]= df_List['amenities'].apply(lambda x: literal_eval(str(x)))\n"
      ]
    },
    {
      "cell_type": "markdown",
      "source": [
        "Q1)  the number of calendar.csv and listings.csv are 6231645 and 17073, repectively."
      ],
      "metadata": {
        "id": "84H-k_Jyebit"
      }
    },
    {
      "cell_type": "code",
      "source": [
        "print(len(df_Carl),len(df_List)) #1"
      ],
      "metadata": {
        "id": "4ZiuHee-kG6_",
        "colab": {
          "base_uri": "https://localhost:8080/"
        },
        "outputId": "46aefc36-2330-48df-adf5-1c6b943a8a8e"
      },
      "execution_count": null,
      "outputs": [
        {
          "output_type": "stream",
          "name": "stdout",
          "text": [
            "6231645 17073\n"
          ]
        }
      ]
    },
    {
      "cell_type": "code",
      "source": [
        "import pandas as pd\n",
        "\n",
        "# สร้าง DataFrame ตัวอย่าง\n",
        "df = pd.DataFrame({\n",
        "    'A': [1, 2, 3, 4, 5],\n",
        "    'B': [10, 20, 30, 40, 50],\n",
        "    'C': [100, 200, 300, 400, 500]\n",
        "})\n",
        "\n",
        "print(\"Original DataFrame:\")\n",
        "print(df)\n",
        "\n",
        "print(\"\\nUsing .loc:\")\n",
        "print(df.loc[:3,:])  # เลือกแถวที่ 1 ถึง 3 และคอลัมน์ A และ C\n",
        "\n",
        "print(\"\\nUsing .iloc:\")\n",
        "print(df.iloc[0:4, 0:2])  # เลือกแถวที่ 1, 2, 3 (ไม่รวม 4) และคอลัมน์ที่ 0 และ 2"
      ],
      "metadata": {
        "colab": {
          "base_uri": "https://localhost:8080/"
        },
        "id": "v7d3q9ZbINKu",
        "outputId": "670c60d6-4620-4c65-84f3-f335247efcd3"
      },
      "execution_count": null,
      "outputs": [
        {
          "output_type": "stream",
          "name": "stdout",
          "text": [
            "Original DataFrame:\n",
            "   A   B    C\n",
            "0  1  10  100\n",
            "1  2  20  200\n",
            "2  3  30  300\n",
            "3  4  40  400\n",
            "4  5  50  500\n",
            "\n",
            "Using .loc:\n",
            "   A   B    C\n",
            "0  1  10  100\n",
            "1  2  20  200\n",
            "2  3  30  300\n",
            "3  4  40  400\n",
            "\n",
            "Using .iloc:\n",
            "   A   B\n",
            "0  1  10\n",
            "1  2  20\n",
            "2  3  30\n",
            "3  4  40\n"
          ]
        }
      ]
    },
    {
      "cell_type": "code",
      "source": [
        "df_List.loc[:1, ['id', 'amenities']]"
      ],
      "metadata": {
        "colab": {
          "base_uri": "https://localhost:8080/",
          "height": 112
        },
        "id": "wA8HlbHn-6B0",
        "outputId": "1417ce98-bf54-4881-a99a-d647223edde7"
      },
      "execution_count": null,
      "outputs": [
        {
          "output_type": "execute_result",
          "data": {
            "text/plain": [
              "                   id                                          amenities\n",
              "0  645048906856594097  [Kitchen, Air conditioning, Free parking on pr...\n",
              "1            15636062  [Wifi, Kitchen, Washer, Air conditioning, Free..."
            ],
            "text/html": [
              "\n",
              "  <div id=\"df-785bc026-30ed-4df5-aa5e-03063eda2bd8\" class=\"colab-df-container\">\n",
              "    <div>\n",
              "<style scoped>\n",
              "    .dataframe tbody tr th:only-of-type {\n",
              "        vertical-align: middle;\n",
              "    }\n",
              "\n",
              "    .dataframe tbody tr th {\n",
              "        vertical-align: top;\n",
              "    }\n",
              "\n",
              "    .dataframe thead th {\n",
              "        text-align: right;\n",
              "    }\n",
              "</style>\n",
              "<table border=\"1\" class=\"dataframe\">\n",
              "  <thead>\n",
              "    <tr style=\"text-align: right;\">\n",
              "      <th></th>\n",
              "      <th>id</th>\n",
              "      <th>amenities</th>\n",
              "    </tr>\n",
              "  </thead>\n",
              "  <tbody>\n",
              "    <tr>\n",
              "      <th>0</th>\n",
              "      <td>645048906856594097</td>\n",
              "      <td>[Kitchen, Air conditioning, Free parking on pr...</td>\n",
              "    </tr>\n",
              "    <tr>\n",
              "      <th>1</th>\n",
              "      <td>15636062</td>\n",
              "      <td>[Wifi, Kitchen, Washer, Air conditioning, Free...</td>\n",
              "    </tr>\n",
              "  </tbody>\n",
              "</table>\n",
              "</div>\n",
              "    <div class=\"colab-df-buttons\">\n",
              "\n",
              "  <div class=\"colab-df-container\">\n",
              "    <button class=\"colab-df-convert\" onclick=\"convertToInteractive('df-785bc026-30ed-4df5-aa5e-03063eda2bd8')\"\n",
              "            title=\"Convert this dataframe to an interactive table.\"\n",
              "            style=\"display:none;\">\n",
              "\n",
              "  <svg xmlns=\"http://www.w3.org/2000/svg\" height=\"24px\" viewBox=\"0 -960 960 960\">\n",
              "    <path d=\"M120-120v-720h720v720H120Zm60-500h600v-160H180v160Zm220 220h160v-160H400v160Zm0 220h160v-160H400v160ZM180-400h160v-160H180v160Zm440 0h160v-160H620v160ZM180-180h160v-160H180v160Zm440 0h160v-160H620v160Z\"/>\n",
              "  </svg>\n",
              "    </button>\n",
              "\n",
              "  <style>\n",
              "    .colab-df-container {\n",
              "      display:flex;\n",
              "      gap: 12px;\n",
              "    }\n",
              "\n",
              "    .colab-df-convert {\n",
              "      background-color: #E8F0FE;\n",
              "      border: none;\n",
              "      border-radius: 50%;\n",
              "      cursor: pointer;\n",
              "      display: none;\n",
              "      fill: #1967D2;\n",
              "      height: 32px;\n",
              "      padding: 0 0 0 0;\n",
              "      width: 32px;\n",
              "    }\n",
              "\n",
              "    .colab-df-convert:hover {\n",
              "      background-color: #E2EBFA;\n",
              "      box-shadow: 0px 1px 2px rgba(60, 64, 67, 0.3), 0px 1px 3px 1px rgba(60, 64, 67, 0.15);\n",
              "      fill: #174EA6;\n",
              "    }\n",
              "\n",
              "    .colab-df-buttons div {\n",
              "      margin-bottom: 4px;\n",
              "    }\n",
              "\n",
              "    [theme=dark] .colab-df-convert {\n",
              "      background-color: #3B4455;\n",
              "      fill: #D2E3FC;\n",
              "    }\n",
              "\n",
              "    [theme=dark] .colab-df-convert:hover {\n",
              "      background-color: #434B5C;\n",
              "      box-shadow: 0px 1px 3px 1px rgba(0, 0, 0, 0.15);\n",
              "      filter: drop-shadow(0px 1px 2px rgba(0, 0, 0, 0.3));\n",
              "      fill: #FFFFFF;\n",
              "    }\n",
              "  </style>\n",
              "\n",
              "    <script>\n",
              "      const buttonEl =\n",
              "        document.querySelector('#df-785bc026-30ed-4df5-aa5e-03063eda2bd8 button.colab-df-convert');\n",
              "      buttonEl.style.display =\n",
              "        google.colab.kernel.accessAllowed ? 'block' : 'none';\n",
              "\n",
              "      async function convertToInteractive(key) {\n",
              "        const element = document.querySelector('#df-785bc026-30ed-4df5-aa5e-03063eda2bd8');\n",
              "        const dataTable =\n",
              "          await google.colab.kernel.invokeFunction('convertToInteractive',\n",
              "                                                    [key], {});\n",
              "        if (!dataTable) return;\n",
              "\n",
              "        const docLinkHtml = 'Like what you see? Visit the ' +\n",
              "          '<a target=\"_blank\" href=https://colab.research.google.com/notebooks/data_table.ipynb>data table notebook</a>'\n",
              "          + ' to learn more about interactive tables.';\n",
              "        element.innerHTML = '';\n",
              "        dataTable['output_type'] = 'display_data';\n",
              "        await google.colab.output.renderOutput(dataTable, element);\n",
              "        const docLink = document.createElement('div');\n",
              "        docLink.innerHTML = docLinkHtml;\n",
              "        element.appendChild(docLink);\n",
              "      }\n",
              "    </script>\n",
              "  </div>\n",
              "\n",
              "\n",
              "<div id=\"df-19976429-9919-4176-95eb-f8dc9660c493\">\n",
              "  <button class=\"colab-df-quickchart\" onclick=\"quickchart('df-19976429-9919-4176-95eb-f8dc9660c493')\"\n",
              "            title=\"Suggest charts\"\n",
              "            style=\"display:none;\">\n",
              "\n",
              "<svg xmlns=\"http://www.w3.org/2000/svg\" height=\"24px\"viewBox=\"0 0 24 24\"\n",
              "     width=\"24px\">\n",
              "    <g>\n",
              "        <path d=\"M19 3H5c-1.1 0-2 .9-2 2v14c0 1.1.9 2 2 2h14c1.1 0 2-.9 2-2V5c0-1.1-.9-2-2-2zM9 17H7v-7h2v7zm4 0h-2V7h2v10zm4 0h-2v-4h2v4z\"/>\n",
              "    </g>\n",
              "</svg>\n",
              "  </button>\n",
              "\n",
              "<style>\n",
              "  .colab-df-quickchart {\n",
              "      --bg-color: #E8F0FE;\n",
              "      --fill-color: #1967D2;\n",
              "      --hover-bg-color: #E2EBFA;\n",
              "      --hover-fill-color: #174EA6;\n",
              "      --disabled-fill-color: #AAA;\n",
              "      --disabled-bg-color: #DDD;\n",
              "  }\n",
              "\n",
              "  [theme=dark] .colab-df-quickchart {\n",
              "      --bg-color: #3B4455;\n",
              "      --fill-color: #D2E3FC;\n",
              "      --hover-bg-color: #434B5C;\n",
              "      --hover-fill-color: #FFFFFF;\n",
              "      --disabled-bg-color: #3B4455;\n",
              "      --disabled-fill-color: #666;\n",
              "  }\n",
              "\n",
              "  .colab-df-quickchart {\n",
              "    background-color: var(--bg-color);\n",
              "    border: none;\n",
              "    border-radius: 50%;\n",
              "    cursor: pointer;\n",
              "    display: none;\n",
              "    fill: var(--fill-color);\n",
              "    height: 32px;\n",
              "    padding: 0;\n",
              "    width: 32px;\n",
              "  }\n",
              "\n",
              "  .colab-df-quickchart:hover {\n",
              "    background-color: var(--hover-bg-color);\n",
              "    box-shadow: 0 1px 2px rgba(60, 64, 67, 0.3), 0 1px 3px 1px rgba(60, 64, 67, 0.15);\n",
              "    fill: var(--button-hover-fill-color);\n",
              "  }\n",
              "\n",
              "  .colab-df-quickchart-complete:disabled,\n",
              "  .colab-df-quickchart-complete:disabled:hover {\n",
              "    background-color: var(--disabled-bg-color);\n",
              "    fill: var(--disabled-fill-color);\n",
              "    box-shadow: none;\n",
              "  }\n",
              "\n",
              "  .colab-df-spinner {\n",
              "    border: 2px solid var(--fill-color);\n",
              "    border-color: transparent;\n",
              "    border-bottom-color: var(--fill-color);\n",
              "    animation:\n",
              "      spin 1s steps(1) infinite;\n",
              "  }\n",
              "\n",
              "  @keyframes spin {\n",
              "    0% {\n",
              "      border-color: transparent;\n",
              "      border-bottom-color: var(--fill-color);\n",
              "      border-left-color: var(--fill-color);\n",
              "    }\n",
              "    20% {\n",
              "      border-color: transparent;\n",
              "      border-left-color: var(--fill-color);\n",
              "      border-top-color: var(--fill-color);\n",
              "    }\n",
              "    30% {\n",
              "      border-color: transparent;\n",
              "      border-left-color: var(--fill-color);\n",
              "      border-top-color: var(--fill-color);\n",
              "      border-right-color: var(--fill-color);\n",
              "    }\n",
              "    40% {\n",
              "      border-color: transparent;\n",
              "      border-right-color: var(--fill-color);\n",
              "      border-top-color: var(--fill-color);\n",
              "    }\n",
              "    60% {\n",
              "      border-color: transparent;\n",
              "      border-right-color: var(--fill-color);\n",
              "    }\n",
              "    80% {\n",
              "      border-color: transparent;\n",
              "      border-right-color: var(--fill-color);\n",
              "      border-bottom-color: var(--fill-color);\n",
              "    }\n",
              "    90% {\n",
              "      border-color: transparent;\n",
              "      border-bottom-color: var(--fill-color);\n",
              "    }\n",
              "  }\n",
              "</style>\n",
              "\n",
              "  <script>\n",
              "    async function quickchart(key) {\n",
              "      const quickchartButtonEl =\n",
              "        document.querySelector('#' + key + ' button');\n",
              "      quickchartButtonEl.disabled = true;  // To prevent multiple clicks.\n",
              "      quickchartButtonEl.classList.add('colab-df-spinner');\n",
              "      try {\n",
              "        const charts = await google.colab.kernel.invokeFunction(\n",
              "            'suggestCharts', [key], {});\n",
              "      } catch (error) {\n",
              "        console.error('Error during call to suggestCharts:', error);\n",
              "      }\n",
              "      quickchartButtonEl.classList.remove('colab-df-spinner');\n",
              "      quickchartButtonEl.classList.add('colab-df-quickchart-complete');\n",
              "    }\n",
              "    (() => {\n",
              "      let quickchartButtonEl =\n",
              "        document.querySelector('#df-19976429-9919-4176-95eb-f8dc9660c493 button');\n",
              "      quickchartButtonEl.style.display =\n",
              "        google.colab.kernel.accessAllowed ? 'block' : 'none';\n",
              "    })();\n",
              "  </script>\n",
              "</div>\n",
              "\n",
              "    </div>\n",
              "  </div>\n"
            ],
            "application/vnd.google.colaboratory.intrinsic+json": {
              "type": "dataframe",
              "summary": "{\n  \"name\": \"df_List\",\n  \"rows\": 2,\n  \"fields\": [\n    {\n      \"column\": \"id\",\n      \"properties\": {\n        \"dtype\": \"number\",\n        \"std\": 456118456224210944,\n        \"min\": 15636062,\n        \"max\": 645048906856594097,\n        \"num_unique_values\": 2,\n        \"samples\": [\n          15636062,\n          645048906856594097\n        ],\n        \"semantic_type\": \"\",\n        \"description\": \"\"\n      }\n    },\n    {\n      \"column\": \"amenities\",\n      \"properties\": {\n        \"dtype\": \"object\",\n        \"semantic_type\": \"\",\n        \"description\": \"\"\n      }\n    }\n  ]\n}"
            }
          },
          "metadata": {},
          "execution_count": 5
        }
      ]
    },
    {
      "cell_type": "markdown",
      "source": [
        "2) How many of the listing properties with equal two or more beds are in the \"Bang Sue\" district?"
      ],
      "metadata": {
        "id": "8f0hgW0uHXRy"
      }
    },
    {
      "cell_type": "code",
      "source": [
        "bang_sue_2plus_beds = df_List.loc[(df_List['neighbourhood_cleansed']=='Bang Sue')&(df_List['beds']>=2)]\n",
        "print(f\"Number of listings two or more beds in Bang Sue: {len(bang_sue_2plus_beds)}\")"
      ],
      "metadata": {
        "colab": {
          "base_uri": "https://localhost:8080/"
        },
        "id": "hq2_npW_HZEy",
        "outputId": "b2010e48-84a8-49db-9731-4bd777fdd462"
      },
      "execution_count": null,
      "outputs": [
        {
          "output_type": "stream",
          "name": "stdout",
          "text": [
            "Number of listings two or more beds in Bang Sue: 73\n"
          ]
        }
      ]
    },
    {
      "cell_type": "markdown",
      "source": [
        "3) How many unique items in \"amenities\" are shown in the listing? What are the top three most popular \"amenities\"?"
      ],
      "metadata": {
        "id": "Hs6SEolvIZIW"
      }
    },
    {
      "cell_type": "code",
      "source": [
        "amenities = []\n",
        "\n",
        "for amenities_lst in df_List['amenities']:\n",
        "  for amenity in amenities_lst:\n",
        "    amenities.append(amenity)\n",
        "\n",
        "# print(amenities)\n",
        "\n",
        "print(f\"Number of unique amenities: {len(amenities)}\")\n",
        "\n",
        "amenities_df = pd.DataFrame(amenities,columns=['amenity'])\n",
        "# amenities_df\n",
        "top_amenities = amenities_df['amenity'].value_counts().sort_values(ascending=False)[0:3]\n",
        "# print(\"Most three amenities\")\n",
        "top_amenities"
      ],
      "metadata": {
        "colab": {
          "base_uri": "https://localhost:8080/",
          "height": 227
        },
        "id": "aZ1ep9PEIeHr",
        "outputId": "0718c178-f9b0-4bdf-886d-43bfe788913f"
      },
      "execution_count": null,
      "outputs": [
        {
          "output_type": "stream",
          "name": "stdout",
          "text": [
            "Number of unique amenities: 343089\n"
          ]
        },
        {
          "output_type": "execute_result",
          "data": {
            "text/plain": [
              "amenity\n",
              "Long term stays allowed    16168\n",
              "Air conditioning           15883\n",
              "Wifi                       14496\n",
              "Name: count, dtype: int64"
            ],
            "text/html": [
              "<div>\n",
              "<style scoped>\n",
              "    .dataframe tbody tr th:only-of-type {\n",
              "        vertical-align: middle;\n",
              "    }\n",
              "\n",
              "    .dataframe tbody tr th {\n",
              "        vertical-align: top;\n",
              "    }\n",
              "\n",
              "    .dataframe thead th {\n",
              "        text-align: right;\n",
              "    }\n",
              "</style>\n",
              "<table border=\"1\" class=\"dataframe\">\n",
              "  <thead>\n",
              "    <tr style=\"text-align: right;\">\n",
              "      <th></th>\n",
              "      <th>count</th>\n",
              "    </tr>\n",
              "    <tr>\n",
              "      <th>amenity</th>\n",
              "      <th></th>\n",
              "    </tr>\n",
              "  </thead>\n",
              "  <tbody>\n",
              "    <tr>\n",
              "      <th>Long term stays allowed</th>\n",
              "      <td>16168</td>\n",
              "    </tr>\n",
              "    <tr>\n",
              "      <th>Air conditioning</th>\n",
              "      <td>15883</td>\n",
              "    </tr>\n",
              "    <tr>\n",
              "      <th>Wifi</th>\n",
              "      <td>14496</td>\n",
              "    </tr>\n",
              "  </tbody>\n",
              "</table>\n",
              "</div><br><label><b>dtype:</b> int64</label>"
            ]
          },
          "metadata": {},
          "execution_count": 7
        }
      ]
    },
    {
      "cell_type": "markdown",
      "source": [
        "4) How many listing records are in Sep 2022 on carlendar.csv? The same listing_id on different dates is considered a different record."
      ],
      "metadata": {
        "id": "lPLYMTLWImIO"
      }
    },
    {
      "cell_type": "code",
      "source": [
        "sep_2022_listings = df_Carl[(df_Carl['date']>='2022-09-01')&(df_Carl['date']<='2022-09-30')]['listing_id']\n",
        "print(f\"Number of listing records in September 2022: {sep_2022_listings.count()}\")"
      ],
      "metadata": {
        "colab": {
          "base_uri": "https://localhost:8080/"
        },
        "id": "fEPs-hOOInQQ",
        "outputId": "988a873a-a558-4fb4-d91e-520aefbbd2e8"
      },
      "execution_count": null,
      "outputs": [
        {
          "output_type": "stream",
          "name": "stdout",
          "text": [
            "Number of listing records in September 2022: 512190\n"
          ]
        }
      ]
    },
    {
      "cell_type": "markdown",
      "source": [
        "5) What is the highest average price on the listing? The average price is the average price of the same listing_id in all records/rows on the carlendar.csv."
      ],
      "metadata": {
        "id": "9cKyeXGMIprN"
      }
    },
    {
      "cell_type": "code",
      "source": [
        "# print(df_Carl.columns) #เช็คชื่อ column\n",
        "# print(df_Carl[[\"listing_id\",\"price\"]])\n",
        "data_frame_avg_price = df_Carl.groupby(['listing_id'])['price'].mean()\n",
        "# //print(data_frame_avg_price)\n",
        "print(f'average price on the listing:\\n')\n",
        "data_frame_avg_price = data_frame_avg_price.sort_values(ascending=False)\n",
        "print(data_frame_avg_price)\n",
        "listing_with_highest_average = data_frame_avg_price.idxmax()\n",
        "\n",
        "print(f'\\nListing ID of Highest average price: {listing_with_highest_average}')\n",
        "highest_avg_price = data_frame_avg_price.max()\n",
        "print(f'\\nhighest average price :{highest_avg_price:.2f}')"
      ],
      "metadata": {
        "colab": {
          "base_uri": "https://localhost:8080/"
        },
        "id": "0EsEVlFrItn9",
        "outputId": "f53c1971-8296-4c39-fc9f-8cd88ee9c9d0"
      },
      "execution_count": null,
      "outputs": [
        {
          "output_type": "stream",
          "name": "stdout",
          "text": [
            "average price on the listing:\n",
            "\n",
            "listing_id\n",
            "28374239    1.417827e+06\n",
            "41578696    3.033090e+05\n",
            "12056763    3.000000e+05\n",
            "13033135    3.000000e+05\n",
            "29970931    2.638960e+05\n",
            "                ...     \n",
            "40597532    3.040000e+02\n",
            "40473104    3.040000e+02\n",
            "38406752    3.040000e+02\n",
            "40651692    3.030000e+02\n",
            "19166672    3.000000e+02\n",
            "Name: price, Length: 17073, dtype: float64\n",
            "\n",
            "Listing ID of Highest average price: 28374239\n",
            "\n",
            "highest average price :1417827.40\n"
          ]
        }
      ]
    },
    {
      "cell_type": "markdown",
      "source": [
        "6) How many listing_id(s) do we observe where the lowest and highest prices differ more than 10,000 baht?"
      ],
      "metadata": {
        "id": "5mINvLu4Iv92"
      }
    },
    {
      "cell_type": "code",
      "source": [
        "price_diff = df_Carl.groupby('listing_id')['price'].agg(['min', 'max'])\n",
        "price_diff['diff_amount'] = price_diff['max'] - price_diff['min']\n",
        "\n",
        "diff_most_than_10k = price_diff[price_diff['diff_amount'] > 10000]['diff_amount']\n",
        "print(f\"Number of listings with price difference > 10,000 baht: {len(diff_most_than_10k)}\")"
      ],
      "metadata": {
        "colab": {
          "base_uri": "https://localhost:8080/"
        },
        "id": "gCWuMYGcI3gY",
        "outputId": "0a080b68-d073-42ce-b627-2b3e36c72d5f"
      },
      "execution_count": null,
      "outputs": [
        {
          "output_type": "stream",
          "name": "stdout",
          "text": [
            "Number of listings with price difference > 10,000 baht: 43\n"
          ]
        }
      ]
    },
    {
      "cell_type": "markdown",
      "source": [
        "- From 6, we observe the variation in the price difference between the lowest and highest prices, which can help estimate the property’s value.\n",
        "\n",
        "- If we hypothesize that the listing_ids with significant price changes indicate abnormal or malicious activity, these should be preprocessed and removed from the dataset.\n",
        "\n",
        "Intruction on preprocessing data.\n",
        "\n",
        "- Apply an outlier detection using the z-score statistical method on the price difference in each listing_id.\n",
        "\n",
        "- We will assume that a listing_id with z-score value more than 3.0 are malicious properties. Any host_name associated with such listing_ids is considered to be malicious as well.\n",
        "\n",
        "\n",
        "6.) Who are the malicious hosts?"
      ],
      "metadata": {
        "id": "VPH53JV8JDRk"
      }
    },
    {
      "cell_type": "code",
      "source": [
        "from scipy.stats import zscore\n",
        "import numpy as np\n",
        "\n",
        "df_merged = df_Carl.merge(df_List, left_on='listing_id',right_on='id')\n",
        "\n",
        "price_diff = df_merged.groupby('listing_id')['price'].agg(['min', 'max'])\n",
        "price_diff['diff_amount'] = price_diff['max'] - price_diff['min']\n",
        "\n",
        "# price_diff['z_score'] = np.abs(zscore(price_diff['diff_amount']))\n",
        "price_diff['z_score'] = zscore(price_diff['diff_amount'])\n",
        "price_diff\n",
        "malicious_id = price_diff[price_diff['z_score'] > 3]\n",
        "\n",
        "\n",
        "malicious_hosts = malicious_id.merge(df_List, left_on='listing_id', right_on='id')\n",
        "malicious_hosts = malicious_hosts['host_name'].unique()\n",
        "print(f\"Malicious hosts:{malicious_hosts}\")"
      ],
      "metadata": {
        "colab": {
          "base_uri": "https://localhost:8080/"
        },
        "id": "CuH9Zmv-JN-O",
        "outputId": "360c11fb-b51c-403a-a837-e6dbde6da84f"
      },
      "execution_count": null,
      "outputs": [
        {
          "output_type": "stream",
          "name": "stdout",
          "text": [
            "Malicious hosts:['Keiko And Pete' 'Nuttawut' 'Pongwich' 'FoRest' 'Oliver' 'Rohan' 'May']\n"
          ]
        }
      ]
    },
    {
      "cell_type": "markdown",
      "source": [
        "7) How many listing_id did each malicious host post?"
      ],
      "metadata": {
        "id": "G4AYKhTYJXGr"
      }
    },
    {
      "cell_type": "code",
      "source": [
        "malicious_host_listings = df_List[df_List['host_name'].isin(malicious_hosts)]\n",
        "print(\"\\nNumber of listings by each malicious host:\")\n",
        "print(malicious_host_listings.groupby('host_name')['id'].count())\n"
      ],
      "metadata": {
        "colab": {
          "base_uri": "https://localhost:8080/"
        },
        "id": "mUmiN3zKJYiO",
        "outputId": "9ac549d5-870e-4f0d-e6f2-2e87812cefdd"
      },
      "execution_count": null,
      "outputs": [
        {
          "output_type": "stream",
          "name": "stdout",
          "text": [
            "\n",
            "Number of listings by each malicious host:\n",
            "<bound method Series.to_dict of host_name\n",
            "FoRest             3\n",
            "Keiko And Pete     1\n",
            "May               19\n",
            "Nuttawut           5\n",
            "Oliver             2\n",
            "Pongwich           2\n",
            "Rohan             31\n",
            "Name: id, dtype: int64>\n"
          ]
        }
      ]
    },
    {
      "cell_type": "markdown",
      "source": [
        "Below this, please remove any malicious listing_id (a property with a z-score > 3) from the calculation.\n",
        "\n",
        "8) Find The top 3 districts with the most listings."
      ],
      "metadata": {
        "id": "oaEUft9EJfXp"
      }
    },
    {
      "cell_type": "code",
      "source": [
        "valid_list = price_diff[price_diff['z_score'] <= 3].index\n",
        "filtered_df = df_merged[df_merged['listing_id'].isin(valid_list)]\n",
        "\n",
        "district_counts = filtered_df['neighbourhood_cleansed'].value_counts().sort_values(ascending=False).head(3)\n",
        "print(\"\\nTop 3 districts with most listings:\")\n",
        "print(district_counts)"
      ],
      "metadata": {
        "colab": {
          "base_uri": "https://localhost:8080/"
        },
        "id": "WKt92Bm_Jitc",
        "outputId": "26bb3bf7-60d5-4935-9efa-dc9dd1694118"
      },
      "execution_count": null,
      "outputs": [
        {
          "output_type": "stream",
          "name": "stdout",
          "text": [
            "\n",
            "Top 3 districts with most listings:\n",
            "neighbourhood_cleansed\n",
            "Khlong Toei    771610\n",
            "Vadhana        771610\n",
            "Huai Khwang    430335\n",
            "Name: count, dtype: int64\n"
          ]
        }
      ]
    },
    {
      "cell_type": "markdown",
      "source": [
        "9) Find the top 3 most common property_type."
      ],
      "metadata": {
        "id": "nnfIGTkuJmoJ"
      }
    },
    {
      "cell_type": "code",
      "source": [
        "property_counts = filtered_df['property_type'].value_counts().sort_values(ascending=False).head(3)\n",
        "print(\"\\nTop 3 most common property types:\")\n",
        "print(property_counts)"
      ],
      "metadata": {
        "colab": {
          "base_uri": "https://localhost:8080/"
        },
        "id": "Q9ni8fszJo13",
        "outputId": "6a094be5-62a3-402c-f703-e2e7d6c87c09"
      },
      "execution_count": null,
      "outputs": [
        {
          "output_type": "stream",
          "name": "stdout",
          "text": [
            "\n",
            "Top 3 most common property types:\n",
            "property_type\n",
            "Entire rental unit             1476790\n",
            "Entire condo                   1332250\n",
            "Private room in rental unit     647875\n",
            "Name: count, dtype: int64\n"
          ]
        }
      ]
    },
    {
      "cell_type": "markdown",
      "source": [
        "10) Which property (listing_id) is the most expensive, and how much is the most expensive property (listing_id)?"
      ],
      "metadata": {
        "id": "N3F8uRONNmpR"
      }
    },
    {
      "cell_type": "code",
      "source": [
        "most_expensive = df_Carl.groupby('listing_id')['price'].max().idxmax()\n",
        "max_price = df_Carl.groupby('listing_id')['price'].max().max()\n",
        "print(f\"\\nMost expensive property (listing_id): {most_expensive}\")\n",
        "print(f\"Price: {max_price:.2f}\")"
      ],
      "metadata": {
        "colab": {
          "base_uri": "https://localhost:8080/"
        },
        "id": "0ce-koJXNph0",
        "outputId": "f0a5624f-4320-458c-c364-1d20e0cea37e"
      },
      "execution_count": null,
      "outputs": [
        {
          "output_type": "stream",
          "name": "stdout",
          "text": [
            "\n",
            "Most expensive property (listing_id): 28374239\n",
            "Price: 1500000.00\n"
          ]
        }
      ]
    },
    {
      "cell_type": "markdown",
      "source": [
        "11) If we are looking for a property with two bedrooms in the Parthum Wan district, how many options (listing_id) do we have?"
      ],
      "metadata": {
        "id": "ndkpolCRNt7E"
      }
    },
    {
      "cell_type": "code",
      "source": [
        "pathum_wan_2bed = filtered_df[(filtered_df['neighbourhood_cleansed'] == 'Parthum Wan') & (filtered_df['beds'] == 2)]\n",
        "\n",
        "print(f\"\\nNumber of 2-bedroom properties in Pathum Wan: {len(pathum_wan_2bed)}\")"
      ],
      "metadata": {
        "colab": {
          "base_uri": "https://localhost:8080/"
        },
        "id": "kQNszAY9qOpc",
        "outputId": "07d81504-ac73-4995-ade5-3313b09578e9"
      },
      "execution_count": null,
      "outputs": [
        {
          "output_type": "stream",
          "name": "stdout",
          "text": [
            "\n",
            "Number of 2-bedroom properties in Pathum Wan: 32120\n"
          ]
        }
      ]
    },
    {
      "cell_type": "markdown",
      "source": [
        "12) If we are looking for a property with two bedrooms in the Parthum Wan district and has \"review_scores_rating\" >= 3, how many options(listing_id) do we have?"
      ],
      "metadata": {
        "id": "f_eVGZiTN68K"
      }
    },
    {
      "cell_type": "code",
      "source": [
        "parthum_wan_room_score = filtered_df[ (filtered_df['neighbourhood_cleansed'] == 'Parthum Wan') &\n",
        "                                      (filtered_df['beds'] == 2)&\n",
        "                                      (filtered_df['review_scores_rating'] >= 3)\n",
        "                                     ]['listing_id']\n",
        "print(f\"\\nNumber of 2-bedroom properties in Pathum Wan with rating >= 3: {len(parthum_wan_room_score)}\")"
      ],
      "metadata": {
        "colab": {
          "base_uri": "https://localhost:8080/"
        },
        "id": "iV6Jx1p4N-Cs",
        "outputId": "39e615c2-c273-4ec9-c9ec-beb36a06c2b3"
      },
      "execution_count": null,
      "outputs": [
        {
          "output_type": "stream",
          "name": "stdout",
          "text": [
            "\n",
            "Number of 2-bedroom properties in Pathum Wan with rating >= 3: 17885\n"
          ]
        }
      ]
    },
    {
      "cell_type": "markdown",
      "source": [
        "[Question 13-15 hint: average on average is taboo.]\n",
        "\n",
        "13) What is the average price of listing properties on question 12 conditions(two bedrooms in the Parthum Wan district and has \"review_scores_rating\" >= 3)?"
      ],
      "metadata": {
        "id": "eOm4X7wrOEZ0"
      }
    },
    {
      "cell_type": "code",
      "source": [
        "filtered_properties = filtered_df[(filtered_df['neighbourhood_cleansed'] == 'Parthum Wan') & (filtered_df['beds'] == 2) & (filtered_df['review_scores_rating'] >= 3)]\n",
        "\n",
        "average_price = filtered_properties['price'].mean()\n",
        "\n",
        "print(f\"The average price of listing properties : {average_price:.2f} Bath\")"
      ],
      "metadata": {
        "colab": {
          "base_uri": "https://localhost:8080/"
        },
        "id": "wXtBnhcPOH7u",
        "outputId": "f8f2f933-4ba6-4681-abe7-cad760c04ee8"
      },
      "execution_count": null,
      "outputs": [
        {
          "output_type": "stream",
          "name": "stdout",
          "text": [
            "The average price of listing properties : 2704.22 Bath\n"
          ]
        }
      ]
    },
    {
      "cell_type": "markdown",
      "source": [
        "14) How much is the average price of all properties in Lat Krabang?"
      ],
      "metadata": {
        "id": "xU2HQ2qcOMPd"
      }
    },
    {
      "cell_type": "code",
      "source": [
        "lat_krabang_properties = filtered_df[filtered_df['neighbourhood_cleansed'] == 'Lat Krabang']\n",
        "average_price_lat_krabang = lat_krabang_properties['price'].mean()\n",
        "print(f\"\\nAverage price of all properties in Lat Krabang: {average_price_lat_krabang:.2f}\")\n"
      ],
      "metadata": {
        "colab": {
          "base_uri": "https://localhost:8080/"
        },
        "id": "G5DvcydlOOdZ",
        "outputId": "e1d1e46a-da95-4908-b25f-82042516e078"
      },
      "execution_count": null,
      "outputs": [
        {
          "output_type": "stream",
          "name": "stdout",
          "text": [
            "\n",
            "Average price of all properties in Lat Krabang: 3500.93\n"
          ]
        }
      ]
    },
    {
      "cell_type": "markdown",
      "source": [
        "15) Which district has the highest average price of properties in bangkok?"
      ],
      "metadata": {
        "id": "2Gar2-GfOTsa"
      }
    },
    {
      "cell_type": "code",
      "source": [
        "district_avg_price = filtered_df.groupby('neighbourhood_cleansed')['price'].mean().sort_values(ascending=False)\n",
        "\n",
        "\n",
        "highest_avg_price_district = district_avg_price.idxmax()\n",
        "print(f\"\\nDistrict with the highest average price: {highest_avg_price_district}\")\n",
        "print(f\"Average price: {district_avg_price.max():.2f}\")"
      ],
      "metadata": {
        "colab": {
          "base_uri": "https://localhost:8080/"
        },
        "id": "PC2OAyKpOatp",
        "outputId": "e12348ac-ed74-4175-fadd-95346bcf69b5"
      },
      "execution_count": null,
      "outputs": [
        {
          "output_type": "stream",
          "name": "stdout",
          "text": [
            "Bang Khae\n",
            "\n",
            "District with the highest average price: Bang Khae\n",
            "Average price: 4795.32\n"
          ]
        }
      ]
    }
  ]
}