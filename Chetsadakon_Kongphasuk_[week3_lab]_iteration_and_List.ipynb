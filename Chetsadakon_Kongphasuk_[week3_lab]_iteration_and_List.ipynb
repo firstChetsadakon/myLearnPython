{
  "nbformat": 4,
  "nbformat_minor": 0,
  "metadata": {
    "colab": {
      "provenance": [],
      "include_colab_link": true
    },
    "kernelspec": {
      "name": "python3",
      "display_name": "Python 3"
    },
    "language_info": {
      "name": "python"
    }
  },
  "cells": [
    {
      "cell_type": "markdown",
      "metadata": {
        "id": "view-in-github",
        "colab_type": "text"
      },
      "source": [
        "<a href=\"https://colab.research.google.com/github/firstChetsadakon/myLearnPython/blob/inclass/Chetsadakon_Kongphasuk_%5Bweek3_lab%5D_iteration_and_List.ipynb\" target=\"_parent\"><img src=\"https://colab.research.google.com/assets/colab-badge.svg\" alt=\"Open In Colab\"/></a>"
      ]
    },
    {
      "cell_type": "markdown",
      "source": [
        "# 1. Loop Exercise"
      ],
      "metadata": {
        "id": "YHmgcswpjPYG"
      }
    },
    {
      "cell_type": "markdown",
      "source": [
        "### 1.1 Print in loop\n",
        " Write a while loop to receive a value from the input function and print it out until the \"stop\" string value is received."
      ],
      "metadata": {
        "id": "8PRzJbEOkFFX"
      }
    },
    {
      "cell_type": "code",
      "execution_count": null,
      "metadata": {
        "colab": {
          "base_uri": "https://localhost:8080/"
        },
        "id": "QTkx1NofjBYE",
        "outputId": "aa997661-8352-4323-e88f-23a2b383b917"
      },
      "outputs": [
        {
          "name": "stdout",
          "output_type": "stream",
          "text": [
            "Enter the value:_\n",
            "You entered _\n",
            "Enter the value:/\n",
            "You entered /\n",
            "Enter the value:ff\n",
            "You entered ff\n",
            "Enter the value:g\n",
            "You entered g\n",
            "Enter the value:10\n",
            "You entered 10\n",
            "Enter the value:\n",
            "You entered \n",
            "Enter the value:22\n",
            "You entered 22\n",
            "Enter the value:stop\n"
          ]
        }
      ],
      "source": [
        "while(True):\n",
        "  inputText = input('Enter the value:')\n",
        "  if inputText == 'stop':\n",
        "    break\n",
        "  print(f\"You entered {inputText}\")\n",
        "\n"
      ]
    },
    {
      "cell_type": "markdown",
      "source": [
        "### 1.2 factorial of n\n",
        "Create a function to find a factorial of n!\n",
        "\n",
        "\n",
        "*   fact(2) = 1 x 2 = 2\n",
        "*   fact(5) = 1 x 2 x 3 x 4 x 5 = 120  \n",
        "\n"
      ],
      "metadata": {
        "id": "oWhR1IZhkYKi"
      }
    },
    {
      "cell_type": "code",
      "source": [
        "\n",
        "def fact(n):\n",
        "  fact = 1\n",
        "  for i in range(1,n+1):\n",
        "    fact = fact * i\n",
        "  return fact\n",
        "\n",
        "test = fact(2)\n",
        "print(test)\n",
        "test = fact(5)\n",
        "print(test)"
      ],
      "metadata": {
        "colab": {
          "base_uri": "https://localhost:8080/"
        },
        "id": "JgdF4m8mjJHu",
        "outputId": "b2f8ee94-8198-4692-9024-910122ba62d0"
      },
      "execution_count": null,
      "outputs": [
        {
          "output_type": "stream",
          "name": "stdout",
          "text": [
            "2\n",
            "120\n"
          ]
        }
      ]
    },
    {
      "cell_type": "markdown",
      "source": [
        "# 2. List Exercise  "
      ],
      "metadata": {
        "id": "4F0dlHs0jJVN"
      }
    },
    {
      "cell_type": "markdown",
      "source": [
        "### 2.1 understand indexing\n",
        "\n",
        "Get two specific values \"China\" and \"Austria\" from countries list."
      ],
      "metadata": {
        "id": "kGIGo6U4mtwY"
      }
    },
    {
      "cell_type": "code",
      "source": [
        "countries = ['United States', 'India', 'China', 'Brazil','UK', 'Germany', 'Austria']\n",
        "# for i in range (len(countries)):\n",
        "#   if countries[i] == 'China' or countries[i] == 'Austria':\n",
        "#     print(countries[i])\n",
        "print(countries[2])\n",
        "print(countries[6])\n"
      ],
      "metadata": {
        "colab": {
          "base_uri": "https://localhost:8080/"
        },
        "id": "EEtXjk84jXbf",
        "outputId": "ad3eee8a-e573-4bfb-ead2-a39d7474297d"
      },
      "execution_count": null,
      "outputs": [
        {
          "output_type": "stream",
          "name": "stdout",
          "text": [
            "China\n",
            "Austria\n"
          ]
        }
      ]
    },
    {
      "cell_type": "markdown",
      "source": [
        "### 2.2 understand indexing\n",
        "Write a program to get value\n",
        "\n",
        "1.   40\n",
        "2.   400\n",
        "3.   [5000,6000]\n",
        "4.   6000\n",
        "\n",
        "\n",
        "\n",
        "\n",
        "\n"
      ],
      "metadata": {
        "id": "ZIVWOH9unSt0"
      }
    },
    {
      "cell_type": "code",
      "source": [
        "vals = [10, 20, [300, 400, [5000, 6000], 500], 30, 40]\n",
        "\n",
        "print(f\"1. {vals[4]}\")\n",
        "print(f\"2. {vals[2][0]}\")\n",
        "print(f\"3. {vals[2][2]}\")\n",
        "print(f\"4. {vals[2][2][1]}\")"
      ],
      "metadata": {
        "colab": {
          "base_uri": "https://localhost:8080/"
        },
        "id": "J0YaZLc9nSQP",
        "outputId": "3e6fb456-3847-43a8-c122-7fd775a6f7ab"
      },
      "execution_count": null,
      "outputs": [
        {
          "output_type": "stream",
          "name": "stdout",
          "text": [
            "1. 40\n",
            "2. 300\n",
            "3. [5000, 6000]\n",
            "4. 6000\n"
          ]
        }
      ]
    },
    {
      "cell_type": "markdown",
      "source": [
        "### 2.3 understand indexing\n",
        "Write a program to add item 7000 after 6000 in the following vals list"
      ],
      "metadata": {
        "id": "QBZcevVGPlZ1"
      }
    },
    {
      "cell_type": "code",
      "source": [
        "vals = [10, 20, [300, 400, [5000, 6000], 500], 30, 40]\n",
        "\n",
        "# vals[2][2].append(7000)\n",
        "# print(vals)\n",
        "\n",
        "vals[2][2].extend([7000])\n",
        "print(vals)"
      ],
      "metadata": {
        "colab": {
          "base_uri": "https://localhost:8080/"
        },
        "id": "kTn39jXvPIsF",
        "outputId": "4efc0ada-e13d-481b-eaf7-87d774d4b50c"
      },
      "execution_count": null,
      "outputs": [
        {
          "output_type": "stream",
          "name": "stdout",
          "text": [
            "[10, 20, [300, 400, [5000, 6000, 7000], 500], 30, 40]\n"
          ]
        }
      ]
    },
    {
      "cell_type": "markdown",
      "source": [
        "### 2.4 sum with for\n",
        "Find the sum of numbers in a list using **for** loop"
      ],
      "metadata": {
        "id": "kqGLH9OboXPV"
      }
    },
    {
      "cell_type": "code",
      "source": [
        "myList = [23,45,12,10,25]\n",
        "sum = 0\n",
        "for val in myList:\n",
        "  sum+=val\n",
        "\n",
        "print(sum)\n"
      ],
      "metadata": {
        "colab": {
          "base_uri": "https://localhost:8080/"
        },
        "id": "sOwTh7I8oXEH",
        "outputId": "379739a3-be95-4427-d4b7-23529fff27a7"
      },
      "execution_count": null,
      "outputs": [
        {
          "output_type": "stream",
          "name": "stdout",
          "text": [
            "115\n"
          ]
        }
      ]
    },
    {
      "cell_type": "markdown",
      "source": [
        "### 2.5 sum with while\n",
        "Find the sum of numbers in a list using **while** loop"
      ],
      "metadata": {
        "id": "19AOLfGUoeSl"
      }
    },
    {
      "cell_type": "code",
      "source": [
        "myList = [23,45,12,10,25]\n",
        "sum = 0\n",
        "index = 0\n",
        "while(index< len(myList)):\n",
        "  sum += myList[index]\n",
        "  index += 1\n",
        "\n",
        "print(sum)\n"
      ],
      "metadata": {
        "colab": {
          "base_uri": "https://localhost:8080/"
        },
        "id": "cKrVTeWtoeYF",
        "outputId": "f79d1141-4c68-4689-d6f9-d289aa293ab2"
      },
      "execution_count": null,
      "outputs": [
        {
          "output_type": "stream",
          "name": "stdout",
          "text": [
            "115\n"
          ]
        }
      ]
    },
    {
      "cell_type": "markdown",
      "source": [
        "# 3. Loop and List Exercise"
      ],
      "metadata": {
        "id": "AS1j04xKjZWF"
      }
    },
    {
      "cell_type": "markdown",
      "source": [
        "### 3.1 Find the maximum value in a list\n",
        "Find the maximum value in a list using a loop. (No sorting allow)"
      ],
      "metadata": {
        "id": "3CeSsCD-rKWz"
      }
    },
    {
      "cell_type": "code",
      "source": [
        "myList = [23,45,12,10,25]\n",
        "\n",
        "maxVal = 0;\n",
        "for i in myList:\n",
        "  if i > maxVal:\n",
        "    maxVal = i\n",
        "print(\"the maximum value is {}\".format(maxVal))"
      ],
      "metadata": {
        "colab": {
          "base_uri": "https://localhost:8080/"
        },
        "id": "OMDgxYfLjZGF",
        "outputId": "c99a6aa8-f08b-4dae-8f19-adeb9a6d56d6"
      },
      "execution_count": null,
      "outputs": [
        {
          "output_type": "stream",
          "name": "stdout",
          "text": [
            "the maximum value is 45\n"
          ]
        }
      ]
    },
    {
      "cell_type": "markdown",
      "source": [
        "### 3.2 Count Integer\n",
        "\n",
        "Count how many items in a list are integers."
      ],
      "metadata": {
        "id": "l1cixf9WrW3F"
      }
    },
    {
      "cell_type": "code",
      "source": [
        "mixtypeLists = [\"name1\", \"long name1\",1,1,2.0,2.0]\n",
        "count = 0\n",
        "for val in mixtypeLists:\n",
        "  if type(val) == int:\n",
        "    count+=1\n",
        "\n",
        "\n",
        "print(\"#int are {}\".format(count))"
      ],
      "metadata": {
        "colab": {
          "base_uri": "https://localhost:8080/"
        },
        "id": "W5rwBOlXrVE-",
        "outputId": "841b05f7-8d42-4140-8bd4-704756e4d027"
      },
      "execution_count": null,
      "outputs": [
        {
          "output_type": "stream",
          "name": "stdout",
          "text": [
            "#int are 2\n"
          ]
        }
      ]
    },
    {
      "cell_type": "markdown",
      "source": [
        "### 3.3 remove item in a list\n",
        "\n",
        "Write a python program to remove empty string from a list.\n"
      ],
      "metadata": {
        "id": "kyYyUiOCsSgz"
      }
    },
    {
      "cell_type": "code",
      "source": [
        "list1 = [\"Mike\", \"\", \"Emma\", \"Kelly\", \"\", \"Brad\"]\n",
        "list2 = []\n",
        "for val in list1:\n",
        "  if val != \"\":\n",
        "    list2.append(val)\n",
        "\n",
        "print(list2)\n",
        "\n",
        "#if last index is \"\" it's will be still have \"\"\n",
        "# for val in list1:\n",
        "#   if val == \"\":\n",
        "#     list1.remove(val) มันจะลดขนาดทุกครั้งที่เจอ \"\" ขนาดที่จะได้ วน for จะลดลงไปไม่เท่ากับ จำนวนของ list เดิมที่เรา check\n",
        "\n",
        "# print(list1)\n"
      ],
      "metadata": {
        "colab": {
          "base_uri": "https://localhost:8080/"
        },
        "id": "6I5B7q9DsSQ-",
        "outputId": "6028f476-4e79-46d1-e9bb-6d91dd44f832"
      },
      "execution_count": null,
      "outputs": [
        {
          "output_type": "stream",
          "name": "stdout",
          "text": [
            "['Mike', 'Emma', 'Kelly', 'Brad']\n"
          ]
        }
      ]
    },
    {
      "cell_type": "markdown",
      "source": [
        "### 3.4 Iterate both lists with equal length simultaneously."
      ],
      "metadata": {
        "id": "04GQdjsqttJ6"
      }
    },
    {
      "cell_type": "code",
      "source": [
        "list1 = [10, 20, 30, 40]\n",
        "list2 = [100, 200, 300, 400]\n",
        "\n",
        "for i in range(len(list1)):\n",
        "  print(f\"{list1[i]} {list2[i]}\")\n"
      ],
      "metadata": {
        "colab": {
          "base_uri": "https://localhost:8080/"
        },
        "id": "KQ-XC6U2tszz",
        "outputId": "7b18078b-244d-4339-9f8c-cafdd9338006"
      },
      "execution_count": null,
      "outputs": [
        {
          "output_type": "stream",
          "name": "stdout",
          "text": [
            "10 100\n",
            "20 200\n",
            "30 300\n",
            "40 400\n"
          ]
        }
      ]
    },
    {
      "cell_type": "markdown",
      "source": [
        "### 3.5 food lists\n",
        "\n",
        "Please write a function select_ingredients that takes the following input:\n",
        "\n",
        "* A list of ingredients for the dishes your friend will prepare.\n",
        "* A list of ingredients that the children do not eat.\n",
        "* This function must return a list of ingredients that your friend can use to cook for children.\n",
        "\n",
        "\n",
        "\n"
      ],
      "metadata": {
        "id": "TsjpTMbIt29C"
      }
    },
    {
      "cell_type": "code",
      "source": [
        "def select_ingredients(dish_ingredients, children_dislikes):\n",
        "    usable = []\n",
        "    for dishIngre in dish_ingredients:\n",
        "      liked = True # boolean\n",
        "      for disLike in children_dislikes:\n",
        "        if dishIngre == disLike: # ถ้าเข้าเงื่อนไขแสดงว่า อยู่ในรายการไม่ชอบ\n",
        "          liked = False\n",
        "      if  liked:  #ถ้ายังTrueอยู่แสดงว่าไม่!อยู่ในรายการไม่ชอบก็หมายความว่าเอาไปทำอาหารได้\n",
        "          usable.append(dishIngre)\n",
        "    return usable\n",
        "# Example usage:\n",
        "dish_ingredients = [\"bokchoy\",'carrots', 'peas', 'chicken', 'rice']\n",
        "children_dislikes = ['peas', 'carrots','lime']\n",
        "usable_ingredients = select_ingredients(dish_ingredients, children_dislikes)\n",
        "print(f\"Ingredients that can be used: {usable_ingredients}\")\n",
        "\n",
        "# 1\n",
        "# def select_ingredients(dish_ingredients, children_dislikes):\n",
        "#     for i in range(len(children_dislikes)):\n",
        "#         if children_dislikes[i] in dish_ingredients:\n",
        "#           dish_ingredients.remove(children_dislikes[i])\n",
        "\n",
        "#     return dish_ingredients\n",
        "# 2\n",
        "# def select_ingredients(dish_ingredients, children_dislikes):\n",
        "#     usable = []\n",
        "#     for i in range(len(dish_ingredients)):\n",
        "#       if dish_ingredients[i] not in children_dislikes:\n",
        "#         usable.append(dish_ingredients[i])\n",
        "#     return usable\n",
        "\n",
        "# 3\n",
        "# def select_ingredients(dish_ingredients, children_dislikes):\n",
        "#     usable = []\n",
        "#     allCheck = 0\n",
        "#     print(len(children_dislikes))\n",
        "#     for dishIngre in dish_ingredients:\n",
        "#       for disLike in children_dislikes:\n",
        "#         if dishIngre != disLike:\n",
        "#           allCheck+=1\n",
        "#       if dishIngre != disLike and allCheck == len(children_dislikes):\n",
        "#           usable.append(dishIngre)\n",
        "#       allCheck = 0\n",
        "#     return usable"
      ],
      "metadata": {
        "colab": {
          "base_uri": "https://localhost:8080/"
        },
        "id": "qvzd0goUt2gs",
        "outputId": "fdc57213-1f89-4f65-a852-41330961c301"
      },
      "execution_count": null,
      "outputs": [
        {
          "output_type": "stream",
          "name": "stdout",
          "text": [
            "Ingredients that can be used: ['bokchoy', 'chicken', 'rice']\n"
          ]
        }
      ]
    }
  ]
}