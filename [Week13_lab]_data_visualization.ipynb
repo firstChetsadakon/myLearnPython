{
  "nbformat": 4,
  "nbformat_minor": 0,
  "metadata": {
    "colab": {
      "provenance": [],
      "include_colab_link": true
    },
    "kernelspec": {
      "name": "python3",
      "display_name": "Python 3"
    },
    "language_info": {
      "name": "python"
    }
  },
  "cells": [
    {
      "cell_type": "markdown",
      "metadata": {
        "id": "view-in-github",
        "colab_type": "text"
      },
      "source": [
        "<a href=\"https://colab.research.google.com/github/firstChetsadakon/myLearnPython/blob/inclass/%5BWeek13_lab%5D_data_visualization.ipynb\" target=\"_parent\"><img src=\"https://colab.research.google.com/assets/colab-badge.svg\" alt=\"Open In Colab\"/></a>"
      ]
    },
    {
      "cell_type": "markdown",
      "source": [
        "# Visualization with Titanic data.\n",
        "Load the Titanic dataset from Seaborn and create a visualization to answer the following question.\n",
        "\n",
        "Q1) We want to compare how many people embark in each town.\n",
        "\n",
        "Q2) how different in terms of fare between males and females?\n",
        "\n",
        "Q3) Do we see more surviving people in females and the first class?\n",
        "\n",
        "Q4) Do we spot any fare difference compared to age and sex? Can we spot an outlier fares in the plot?\n",
        "\n",
        "Q5) We want to see the number of males and females in each age group(bin). (please set a bin step to 10. E.g. 0-10,10-20,20-30, ...)\n",
        "\n",
        "\n",
        "\n"
      ],
      "metadata": {
        "id": "v5dNK6vYLTfo"
      }
    },
    {
      "cell_type": "code",
      "execution_count": null,
      "metadata": {
        "colab": {
          "base_uri": "https://localhost:8080/"
        },
        "id": "B_0VGWbCs4uy",
        "outputId": "7625b1e7-c6fb-49f4-938b-d3fc048cfb9d"
      },
      "outputs": [
        {
          "output_type": "stream",
          "name": "stdout",
          "text": [
            "     survived  pclass     sex   age  sibsp  parch     fare embarked   class    who  adult_male deck  embark_town alive  alone\n",
            "0           0       3    male  22.0      1      0   7.2500        S   Third    man        True  NaN  Southampton    no  False\n",
            "1           1       1  female  38.0      1      0  71.2833        C   First  woman       False    C    Cherbourg   yes  False\n",
            "2           1       3  female  26.0      0      0   7.9250        S   Third  woman       False  NaN  Southampton   yes   True\n",
            "3           1       1  female  35.0      1      0  53.1000        S   First  woman       False    C  Southampton   yes  False\n",
            "4           0       3    male  35.0      0      0   8.0500        S   Third    man        True  NaN  Southampton    no   True\n",
            "..        ...     ...     ...   ...    ...    ...      ...      ...     ...    ...         ...  ...          ...   ...    ...\n",
            "886         0       2    male  27.0      0      0  13.0000        S  Second    man        True  NaN  Southampton    no   True\n",
            "887         1       1  female  19.0      0      0  30.0000        S   First  woman       False    B  Southampton   yes   True\n",
            "888         0       3  female   NaN      1      2  23.4500        S   Third  woman       False  NaN  Southampton    no  False\n",
            "889         1       1    male  26.0      0      0  30.0000        C   First    man        True    C    Cherbourg   yes   True\n",
            "890         0       3    male  32.0      0      0   7.7500        Q   Third    man        True  NaN   Queenstown    no   True\n",
            "\n",
            "[891 rows x 15 columns]\n"
          ]
        }
      ],
      "source": [
        "import pandas as pd\n",
        "import seaborn as sns\n",
        "import matplotlib.pyplot as plt\n",
        "\n",
        "pd.set_option('display.max_columns', 20)\n",
        "pd.set_option('display.width', 1000)\n",
        "\n",
        "data = sns.load_dataset(\"titanic\")\n",
        "print(data)"
      ]
    }
  ]
}